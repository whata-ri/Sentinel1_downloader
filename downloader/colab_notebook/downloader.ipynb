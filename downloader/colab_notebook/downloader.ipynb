{
  "cells": [
    {
      "cell_type": "code",
      "execution_count": 3,
      "metadata": {
        "colab": {
          "base_uri": "https://localhost:8080/"
        },
        "id": "jnqaq5LfoSv3",
        "outputId": "cc5a37ff-4ec1-4e63-d7eb-5e20f017cfe0"
      },
      "outputs": [
        {
          "name": "stdout",
          "output_type": "stream",
          "text": [
            "Collecting geopandas\n",
            "  Downloading geopandas-0.10.1-py2.py3-none-any.whl (1.0 MB)\n",
            "\u001b[K     |████████████████████████████████| 1.0 MB 5.4 MB/s \n",
            "\u001b[?25hRequirement already satisfied: pandas>=0.25.0 in /usr/local/lib/python3.7/dist-packages (from geopandas) (1.1.5)\n",
            "Collecting fiona>=1.8\n",
            "  Downloading Fiona-1.8.20-cp37-cp37m-manylinux1_x86_64.whl (15.4 MB)\n",
            "\u001b[K     |████████████████████████████████| 15.4 MB 37 kB/s \n",
            "\u001b[?25hCollecting pyproj>=2.2.0\n",
            "  Downloading pyproj-3.2.1-cp37-cp37m-manylinux2010_x86_64.whl (6.3 MB)\n",
            "\u001b[K     |████████████████████████████████| 6.3 MB 36.7 MB/s \n",
            "\u001b[?25hRequirement already satisfied: shapely>=1.6 in /usr/local/lib/python3.7/dist-packages (from geopandas) (1.7.1)\n",
            "Collecting cligj>=0.5\n",
            "  Downloading cligj-0.7.2-py3-none-any.whl (7.1 kB)\n",
            "Collecting munch\n",
            "  Downloading munch-2.5.0-py2.py3-none-any.whl (10 kB)\n",
            "Requirement already satisfied: attrs>=17 in /usr/local/lib/python3.7/dist-packages (from fiona>=1.8->geopandas) (21.2.0)\n",
            "Requirement already satisfied: certifi in /usr/local/lib/python3.7/dist-packages (from fiona>=1.8->geopandas) (2021.5.30)\n",
            "Requirement already satisfied: six>=1.7 in /usr/local/lib/python3.7/dist-packages (from fiona>=1.8->geopandas) (1.15.0)\n",
            "Requirement already satisfied: click>=4.0 in /usr/local/lib/python3.7/dist-packages (from fiona>=1.8->geopandas) (7.1.2)\n",
            "Collecting click-plugins>=1.0\n",
            "  Downloading click_plugins-1.1.1-py2.py3-none-any.whl (7.5 kB)\n",
            "Requirement already satisfied: setuptools in /usr/local/lib/python3.7/dist-packages (from fiona>=1.8->geopandas) (57.4.0)\n",
            "Requirement already satisfied: python-dateutil>=2.7.3 in /usr/local/lib/python3.7/dist-packages (from pandas>=0.25.0->geopandas) (2.8.2)\n",
            "Requirement already satisfied: numpy>=1.15.4 in /usr/local/lib/python3.7/dist-packages (from pandas>=0.25.0->geopandas) (1.19.5)\n",
            "Requirement already satisfied: pytz>=2017.2 in /usr/local/lib/python3.7/dist-packages (from pandas>=0.25.0->geopandas) (2018.9)\n",
            "Installing collected packages: munch, cligj, click-plugins, pyproj, fiona, geopandas\n",
            "Successfully installed click-plugins-1.1.1 cligj-0.7.2 fiona-1.8.20 geopandas-0.10.1 munch-2.5.0 pyproj-3.2.1\n"
          ]
        }
      ],
      "source": [
        "!pip install geopandas\n",
        "import geopandas as gpd\n",
        "from datetime import date\n",
        "\n",
        "dir_geojson = \"drive/My Drive/GRASP_EARTH/aois/los-angeles.geojson\"\n",
        "bucket = \"ge-los-angeles\"\n",
        "orbit = \"DESCENDING\"\n",
        "\n",
        "start_date = date(2021, 1, 1).strftime('%Y-%m-%d')\n",
        "end_date = date(2021, 10, 15).strftime('%Y-%m-%d')"
      ]
    },
    {
      "cell_type": "code",
      "execution_count": null,
      "metadata": {
        "id": "gnijDHCOAy9B"
      },
      "outputs": [],
      "source": [
        "import ee\n",
        "import numpy as np\n",
        "import matplotlib.pyplot as plt\n",
        "\n",
        "ee.Authenticate()\n",
        "ee.Initialize()"
      ]
    },
    {
      "cell_type": "code",
      "execution_count": 5,
      "metadata": {
        "colab": {
          "base_uri": "https://localhost:8080/"
        },
        "id": "jFwp5mEW7hCH",
        "outputId": "441db2d1-a08a-4cc7-ddbf-85aa9d7b98c9"
      },
      "outputs": [
        {
          "name": "stdout",
          "output_type": "stream",
          "text": [
            "Mounted at /content/drive\n"
          ]
        }
      ],
      "source": [
        "from google.colab import drive\n",
        "drive.mount('/content/drive')"
      ]
    },
    {
      "cell_type": "code",
      "execution_count": 6,
      "metadata": {
        "id": "dGJVkE9CEjfh"
      },
      "outputs": [],
      "source": [
        "gdf = gpd.read_file(dir_geojson)\n",
        "p = gdf[\"geometry\"][0]\n",
        "polygon = list(zip(*p.exterior.coords.xy))\n",
        "aoi = ee.Geometry.Polygon(polygon)"
      ]
    },
    {
      "cell_type": "code",
      "execution_count": 10,
      "metadata": {
        "id": "cvPrIlqaBVWC"
      },
      "outputs": [],
      "source": [
        "if orbit in [\"ASCENDING\", \"DESCENDING\"]:\n",
        "    Sentinel1 = ee.ImageCollection('COPERNICUS/S1_GRD')\\\n",
        "                .filterBounds(aoi)\\\n",
        "                .filterDate(start_date, end_date)\\\n",
        "                .filter(ee.Filter.eq('orbitProperties_pass', orbit))\\\n",
        "                .select(['VV'])\n",
        "else:\n",
        "    Sentinel1 = ee.ImageCollection('COPERNICUS/S1_GRD')\\\n",
        "                .filterBounds(aoi)\\\n",
        "                .filterDate(start_date, end_date)\\\n",
        "                .select(['VV'])\n",
        "\n",
        "img_list = Sentinel1.toList(200)"
      ]
    },
    {
      "cell_type": "markdown",
      "metadata": {
        "id": "Rvrg_Ht5Mqd9"
      },
      "source": [
        "## 取得したデータ数の確認"
      ]
    },
    {
      "cell_type": "code",
      "execution_count": 8,
      "metadata": {
        "colab": {
          "base_uri": "https://localhost:8080/"
        },
        "id": "fYp1M02-EX-A",
        "outputId": "d746434a-a3af-481a-ceaa-3eb1462e098a"
      },
      "outputs": [
        {
          "data": {
            "text/plain": [
              "46"
            ]
          },
          "execution_count": 8,
          "metadata": {},
          "output_type": "execute_result"
        }
      ],
      "source": [
        "img_num = img_list.size().getInfo()\n",
        "img_num"
      ]
    },
    {
      "cell_type": "markdown",
      "metadata": {
        "id": "AQrMKejkyjvT"
      },
      "source": [
        "## Download image"
      ]
    },
    {
      "cell_type": "code",
      "execution_count": 9,
      "metadata": {
        "id": "r-0Wxk-cMtlh"
      },
      "outputs": [],
      "source": [
        "for i in range(img_list.size().getInfo()):\n",
        "    image = ee.Image(img_list.get(i))\n",
        "    task = ee.batch.Export.image.toCloudStorage(\n",
        "        image=image.reproject(crs='EPSG:4326',scale=10),\n",
        "        description=image.get('system:index').getInfo(),\n",
        "        bucket=bucket,\n",
        "        region=aoi,\n",
        "        scale=10\n",
        "        )\n",
        "    task.start()"
      ]
    },
    {
      "cell_type": "code",
      "execution_count": null,
      "metadata": {
        "id": "MzWI0yy5qAv0"
      },
      "outputs": [],
      "source": []
    }
  ],
  "metadata": {
    "colab": {
      "name": "downloader.ipynb",
      "provenance": []
    },
    "interpreter": {
      "hash": "31f2aee4e71d21fbe5cf8b01ff0e069b9275f58929596ceb00d14d90e3e16cd6"
    },
    "kernelspec": {
      "display_name": "Python 3.9.2 64-bit",
      "name": "python3"
    },
    "language_info": {
      "name": "python",
      "version": "3.9.2"
    }
  },
  "nbformat": 4,
  "nbformat_minor": 0
}
